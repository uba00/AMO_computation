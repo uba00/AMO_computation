{
 "cells": [
  {
   "cell_type": "markdown",
   "metadata": {},
   "source": [
    "# ADK and PPT Theory of Atomic Ionization\n",
    "[Fu Y-Z et.al.,  Chin. Phys. B 21 113101 (2012)]"
   ]
  },
  {
   "cell_type": "code",
   "execution_count": 2,
   "metadata": {},
   "outputs": [],
   "source": [
    "import math as mt\n",
    "import numpy as np"
   ]
  },
  {
   "cell_type": "code",
   "execution_count": 3,
   "metadata": {},
   "outputs": [],
   "source": [
    "#function for temporal profile of laser\n",
    "def temp_profile(t, fwhm, lam, phi = 0) :\n",
    "    t = t*41 # in au\n",
    "    fwhm = fwhm*41\n",
    "    lam = lam*1e-9 #in nm\n",
    "    w = 2*mt.pi*(3e8/lam)/4.13e16 #in au\n",
    "    env = np.exp(-2*mt.log(2)*(t/fwhm)**2)\n",
    "    return env*np.cos(w*t+phi), w, env"
   ]
  },
  {
   "cell_type": "markdown",
   "metadata": {},
   "source": [
    "ADK Theory :\n",
    "\n",
    "The static tunneling ionizaton rate is :\n",
    "\n",
    "$W_{adk}(F) = |C_{n^*l^*}|^2 f(l,m) Eo \\bigl(\\dfrac{2F_o}{F}\\bigr)^{2n^*-|m|-1}\\times exp\\bigl(-\\dfrac{2F_o}{3F}\\bigr)$\n",
    "\n",
    "where\n",
    "\n",
    "$F_o = (2E_o)^{3/2}$, $Eo$ is electron binding energy\n",
    "\n",
    "$n^* = Z_c(2E_o)^{-1/2}$ is effecting principal quantum number and $Z_c$ is asymptotic charge\n",
    "\n",
    "$l^* = n^*-1$ is effective orbital quantum number \n",
    "\n",
    "$F(t)$ is the electric field of pulse including the envelope and phase\n",
    "\n",
    "$|C_{n^*l^*}|^2 = \\dfrac{2^{2n^*}}{n^*\\Gamma(n^*+l^*+1)\\Gamma(n^*-l^*)}$\n",
    "\n",
    "$f(l,m) = \\dfrac{(2l+1)(l+|m|)!} {2^{|m|} |m|! (l-|m|)!}$\n",
    "\n",
    "And the total ionization probability by a laser pulse is \n",
    "\n",
    "$P = 1 - exp\\bigl(-\\int_{-\\infty}^{\\infty} w_{ADK} |F(t)|dt\\bigr)$"
   ]
  },
  {
   "cell_type": "code",
   "execution_count": 26,
   "metadata": {},
   "outputs": [],
   "source": [
    "def P_ADK(Io, t, env, phase, w, Ip, Z, l, m):\n",
    "    #assigning Io to numpy array\n",
    "    if not isinstance(Io, np.ndarray):\n",
    "        Io = np.asarray([Io])\n",
    "    Fp = np.sqrt(2*Io*1e14*1e4/(3e8*8.854187817620e-12))*1e-2/5.14e9 #in au peak\n",
    "    Ip = Ip/27.211396\n",
    "    nstar = Z/mt.sqrt(2*Ip)\n",
    "    lstar = nstar - 1\n",
    "    C_nlstar_2 = 2**(2*nstar) \\\n",
    "                /nstar*mt.gamma(nstar+lstar+1) \\\n",
    "                /mt.gamma(nstar-lstar)\n",
    "                \n",
    "    f_lm = (2*l+1)*mt.factorial(l+mt.fabs(m)) \\\n",
    "            / 2**mt.fabs(m)*mt.factorial(mt.fabs(m)) \\\n",
    "            / mt.factorial(l-mt.fabs(m))\n",
    "\n",
    "    Fo = np.sqrt(2*Ip)**3\n",
    "\n",
    "    prob_ion = []\n",
    "    dt = (t[1]-t[0])*41\n",
    "    pulse = env*np.cos(w*t*41+phase)\n",
    "    i_good = np.where(np.abs(pulse)>1e-50)\n",
    "    pulse = pulse[i_good]\n",
    "    for i in Fp:\n",
    "        F = i*np.abs(pulse)\n",
    "        #exponential term -> 0 faster than the power term so setting 0 is valid\n",
    "        Wadk = C_nlstar_2*f_lm*Ip \\\n",
    "                * (2*Fo/F)**(2*nstar-mt.fabs(m)-1) \\\n",
    "                * np.exp(-2/3*Fo/F)                \n",
    "        #total probability\n",
    "        int_v = Wadk.sum()*dt \n",
    "        prob_adk = 1 - np.exp(-int_v)\n",
    "        prob_ion.append(prob_adk)\n",
    "    return np.asarray(prob_ion)"
   ]
  },
  {
   "cell_type": "code",
   "execution_count": 9,
   "metadata": {},
   "outputs": [],
   "source": [
    "t = np.arange(-20,20,0.1)\n",
    "pulse, w, env = temp_profile(t, 10, 800, 0)\n",
    "dt = t[1]-t[0]"
   ]
  },
  {
   "cell_type": "code",
   "execution_count": 16,
   "metadata": {},
   "outputs": [],
   "source": [
    "i, p = np.loadtxt('h.csv', delimiter=',', unpack=True)\n",
    "Ip = 13.6 # ionization energy of Hydrogen atom in eV\n",
    "I = np.arange(i.min(), i.max()+ 0.01, 0.05) # in 1e14 Watt/cm2"
   ]
  },
  {
   "cell_type": "code",
   "execution_count": 29,
   "metadata": {},
   "outputs": [],
   "source": [
    "Padk = P_ADK(Io = I, t = t, env = env, phase= 0, w = w, Ip = Ip, Z = 1, l = 1, m = 0)"
   ]
  },
  {
   "cell_type": "markdown",
   "metadata": {},
   "source": [
    "PPT Theory :\n",
    "\n",
    "The cycle averaged ionization rate is \n",
    "\n",
    "$w_{PPT} = |C_{n^*l^*}|^2 f(l, m) Eo \\bigl(\\dfrac{2F_o}{F}\\bigr)^{2n^*-|m|-1} \\\\\n",
    "\\times (1+\\gamma^2)^{|m|/2+3/4} \\\\\n",
    "\\times A_m(\\omega, \\gamma) exp\\bigl(-\\dfrac{2F_o}{3F}g(\\gamma)\\bigr)\\\\\n",
    "\\times \\sqrt{\\dfrac{2F}{\\pi F_o}}$\n",
    "\n",
    "where\n",
    "\n",
    "$g(\\gamma) =  \\dfrac{3}{2\\gamma} (1+\\dfrac{1}{2\\gamma^2} sinh^{-1}\\gamma - \\dfrac{\\sqrt{1+\\gamma^2}}{2\\gamma})$",
    "\n\n",
    "$A_m(\\omega, \\gamma) = \\dfrac{4}{\\sqrt{3\\pi}}\\dfrac{1}{|m|!} \\dfrac{\\gamma^2}{1+\\gamma^2} $\n\n",
    "$\\times\\sum_{\\kappa\\geq\\nu}^\\infty e^{-\\alpha(\\gamma)(\\kappa-\\nu)}w_m(\\sqrt{\\beta(\\gamma)(\\kappa-\\nu)})$\n",
    "\n",
    "$w_m(x) = \\dfrac{x^{2|m|+1}}{2}\\int_0^1 \\dfrac{e^{-x^2t}t^{|m|}} {\\sqrt{1-t}} dt$\n",
    "\n",
    "$\\alpha(\\gamma) = 2\\bigl(sinh^{-1}\\gamma - \\dfrac{\\gamma}{\\sqrt{1+\\gamma^2}}\\bigr)$\n",
    "\n",
    "$\\beta(\\gamma) = \\dfrac{2\\gamma}{\\sqrt{1+\\gamma^2}}$\n",
    "\n",
    "$\\nu = \\dfrac{E_o}{\\omega} \\bigl(1+\\dfrac{1}{2\\gamma^2}\\bigr)$\n",
    "\n",
    "$\\kappa = <\\dfrac{E_o}{\\omega}+1>+S $ and $S = 0, 1, ....$"
   ]
  },
  {
   "cell_type": "code",
   "execution_count": 19,
   "metadata": {},
   "outputs": [],
   "source": [
    "import peakutils as pk #for counting peaks in pulse temporal profile\n",
    "from scipy.special import dawsn\n",
    "\n",
    "def wm(x,m):\n",
    "    #from wolframalpha expressing the integral\n",
    "    #exp(-x*x) int(exp(y*y)*(x**2-y**2)*dy, (0,x)) in Dawsn function\n",
    "    if np.abs(m)==0:\n",
    "        val = dawsn(x) \n",
    "    elif np.abs(m)==1:\n",
    "        val = 1/2*(2*x**2*dawsn(x)+dawsn(x)-x)\n",
    "    elif np.abs(m)==2:\n",
    "        val = 1/4*((4*(x**4+x**2)+3)*dawsn(x)-x*(2*x**2+3))\n",
    "    elif np.abs(m)==3:\n",
    "        val = 1/8*((8*x**6+12*x**4+18*x**2+15)*dawsn(x)-x*(4*x**4+8*x**2+15))\n",
    "    elif np.abs(m)==4:\n",
    "        val = 1/16*((8*(2*x**6+4*x**4+9*x**2+15)*x**2+105)*dawsn(x)-x*(8*x**6+20*x**4+50*x**2+105))\n",
    "    elif np.abs(m)==5:\n",
    "        val = 1/32*((1050*x**2+8*(2*x**2+5)*(2*x**4+15)*x**4+945)*dawsn(x)-x*(16*x**8+48*x**6+152*x**4+420*x**2+945))\n",
    "    return val\n"
   ]
  },
  {
   "cell_type": "code",
   "execution_count": 27,
   "metadata": {},
   "outputs": [],
   "source": [
    "#cycle averaged ionization rate\n",
    "def P_PPT(Io, t, env, phase, w, Ip, Z, l, m, N=50):\n",
    "    if not isinstance(Io, np.ndarray):\n",
    "        Io = np.asarray([Io])    \n",
    "    Fp = np.sqrt(2*Io*1e14*1e4/(3e8*8.854187817620e-12))*1e-2/5.14e9 #in au peak\n",
    "    Ip = Ip/27.211396\n",
    "    nstar = Z/mt.sqrt(2*Ip)\n",
    "    lstar = nstar - 1\n",
    "    C_nlstar_2 = 2**(2*nstar) \\\n",
    "                 /nstar*mt.gamma(nstar+lstar+1) \\\n",
    "                 /mt.gamma(nstar-lstar)\n",
    "                 \n",
    "    f_lm = (2*l+1)*mt.factorial(l+mt.fabs(m)) \\\n",
    "            / 2**mt.fabs(m)*mt.factorial(mt.fabs(m)) \\\n",
    "            / mt.factorial(l-mt.fabs(m))\n",
    "\n",
    "    Fo = np.sqrt(2*Ip)**3\n",
    "\n",
    "    #find peaks so to sum for each cycle\n",
    "    pulse = env*np.cos(w*t*41+phase)\n",
    "    p = pk.indexes(pulse)\n",
    "    prob_ion = []\n",
    "    S = np.arange(N)\n",
    "    T = (2*np.pi/w) #cycle period in au\n",
    "\n",
    "    for Fi in Fp:\n",
    "        prob_cycle = 0        \n",
    "        for pi in p:    \n",
    "            F = Fi*np.abs(pulse[pi])            \n",
    "            gam = w*mt.sqrt(2*Ip)/F #single value of gamma\n",
    "            g = 3/(2*gam)*((1+1/(2*gam**2))*np.arcsinh(gam) - np.sqrt(1+gam**2)/(2*gam))    \n",
    "\n",
    "            alpha = 2*(np.arcsinh(gam)-gam/np.sqrt(1+gam**2))\n",
    "            beta = 2*gam/np.sqrt(1+gam**2)\n",
    "            v = Ip/w*(1+1/(2*gam**2))\n",
    "            \n",
    "            n = int(Ip/w+1) + S\n",
    "            x = n-v\n",
    "            x = x[np.where(x>=0)]\n",
    "            \n",
    "            Am = 4*gam**2/(np.sqrt(3*np.pi)*mt.factorial(mt.fabs(m))*(1+gam**2)) \\\n",
    "                * (np.exp(-alpha*x)*wm(np.sqrt(beta*x),m)).sum()\n",
    "                \n",
    "            Wppt = C_nlstar_2*f_lm*Ip\\\n",
    "                    * (2*Fo/F)**(2*nstar-mt.fabs(m)-1) \\\n",
    "                    * Am*(1+gam**2)**(mt.fabs(m)/2+3/4) \\\n",
    "                    * np.exp(-2/3*Fo/F*g) \\\n",
    "                    * np.sqrt((2/np.pi*F/Fo))\n",
    "           \n",
    "            prob_cycle += 1-np.exp(-Wppt*T)\n",
    "        prob_ion.append(prob_cycle)\n",
    "    return np.asarray(prob_ion)"
   ]
  },
  {
   "cell_type": "code",
   "execution_count": 28,
   "metadata": {},
   "outputs": [],
   "source": [
    "Pppt= P_PPT(Io = I, t = t, env = env, phase= 0, w = w, Ip = Ip, Z = 1, l = 1, m = 0)"
   ]
  },
  {
   "cell_type": "code",
   "execution_count": 30,
   "metadata": {},
   "outputs": [
    {
     "name": "stdout",
     "output_type": "stream",
     "text": [
      "0.21608027488146045\n",
      "0.09301554752723527\n"
     ]
    }
   ],
   "source": [
    "adkr = 1/Padk.max()*p.max()\n",
    "pptr = 1/Pppt.max()*p.max()\n",
    "print(adkr)\n",
    "print(pptr)"
   ]
  },
  {
   "cell_type": "code",
   "execution_count": 32,
   "metadata": {},
   "outputs": [
    {
     "data": {
      "image/png": "[encoded data removed]",
      "text/plain": [
       "<Figure size 432x288 with 1 Axes>"
      ]
     },
     "metadata": {},
     "output_type": "display_data"
    }
   ],
   "source": [
    "import matplotlib.pyplot as plt\n",
    "plt.plot(I, Padk*adkr,'--', label='ADK')\n",
    "plt.plot(I, Pppt*pptr,'--', label=\"PPT\")\n",
    "#\n",
    "plt.plot(i,p, label='data')\n",
    "plt.legend()\n",
    "plt.yscale('log')\n",
    "plt.grid()\n",
    "plt.xlabel('Peak Intensity ($x10^{14}$ $Watt/cm^2$)')\n",
    "plt.ylabel('Single Ionization Probability')\n",
    "plt.show()"
   ]
  }
 ],
 "metadata": {
  "kernelspec": {
   "display_name": "Python 3",
   "language": "python",
   "name": "python3"
  },
  "language_info": {
   "codemirror_mode": {
    "name": "ipython",
    "version": 3
   },
   "file_extension": ".py",
   "mimetype": "text/x-python",
   "name": "python",
   "nbconvert_exporter": "python",
   "pygments_lexer": "ipython3",
   "version": "3.6.5"
  }
 },
 "nbformat": 4,
 "nbformat_minor": 2
}
